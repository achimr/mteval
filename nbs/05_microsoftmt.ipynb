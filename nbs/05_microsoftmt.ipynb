{
 "cells": [
  {
   "cell_type": "markdown",
   "metadata": {},
   "source": [
    "# microsoftmt\n",
    "> Library to use Microsoft's machine translation services"
   ]
  },
  {
   "cell_type": "code",
   "execution_count": null,
   "metadata": {},
   "outputs": [],
   "source": [
    "#| default_exp microsoftmt"
   ]
  },
  {
   "cell_type": "code",
   "execution_count": null,
   "metadata": {},
   "outputs": [],
   "source": [
    "#| hide\n",
    "import os"
   ]
  },
  {
   "cell_type": "code",
   "execution_count": null,
   "metadata": {},
   "outputs": [],
   "source": [
    "#| hide\n",
    "running_in_colab = 'google.colab' in str(get_ipython())\n",
    "if running_in_colab:\n",
    "    from google.colab import drive\n",
    "    drive.mount('/content/drive')\n",
    "    homedir = \"/content/drive/MyDrive\"\n",
    "else:\n",
    "    homedir = os.getenv('HOME')"
   ]
  },
  {
   "cell_type": "code",
   "execution_count": null,
   "metadata": {},
   "outputs": [],
   "source": [
    "#| hide\n",
    "if running_in_colab:\n",
    "    github_test_folder = homedir+\"/github/polyglottech/mteval\"\n",
    "    %cd {github_test_folder}\n",
    "    !pip3 install nbdev\n",
    "    !pip3 install -e '.[dev]'"
   ]
  },
  {
   "cell_type": "code",
   "execution_count": null,
   "metadata": {},
   "outputs": [],
   "source": [
    "#| hide\n",
    "from dotenv import load_dotenv"
   ]
  },
  {
   "cell_type": "code",
   "execution_count": null,
   "metadata": {},
   "outputs": [],
   "source": [
    "#| hide\n",
    "if running_in_colab:\n",
    "    # Colab doesn't have a mechanism to set environment variables other than python-dotenv\n",
    "    env_file = homedir+'/secrets/.env'\n",
    "    %load_ext dotenv\n",
    "    %dotenv {env_file}"
   ]
  },
  {
   "cell_type": "code",
   "execution_count": null,
   "metadata": {},
   "outputs": [],
   "source": [
    "#| hide\n",
    "from nbdev.showdoc import *"
   ]
  },
  {
   "cell_type": "code",
   "execution_count": null,
   "metadata": {},
   "outputs": [],
   "source": [
    "#| export\n",
    "import requests, uuid\n",
    "import os\n",
    "from langcodes import *\n",
    "\n",
    "class microsofttranslate:\n",
    "    \"\"\"\n",
    "    Class to get translations from the Microsoft Translator API\n",
    "    \"\"\"\n",
    "    def __init__(self):\n",
    "        \"\"\"Constructor of microsofttranslate class\"\"\"\n",
    "        self._subscription_key = os.getenv('MS_SUBSCRIPTION_KEY')\n",
    "        self._region = os.getenv('MS_REGION')\n",
    "        self._endpoint = \"https://api.cognitive.microsofttranslator.com\"\n",
    "        self._languages_cache = []\n",
    "        \n",
    "    def check_langpair(self, sourcelang, targetlang):\n",
    "        \"\"\"Function to verify if a language pair identified by language ids is supported\"\"\"\n",
    "        path = '/languages'\n",
    "        constructed_url = self._endpoint + path\n",
    "        params = {\n",
    "            'api-version': '3.0',\n",
    "            'scope': 'translation'\n",
    "        }\n",
    "        \n",
    "        supported_languages = self._languages_cache\n",
    "        # Cached language array empty if not initialized yet\n",
    "        if not supported_languages:\n",
    "            # Note that we aren't capturing the ETag from response header for the current language list -\n",
    "            # we are caching the list after the first call and assume that it doesn't change over the lifetime\n",
    "            # of the class,  we don't persist the list and call the API again when the class is re-instantiated\n",
    "            request = requests.get(constructed_url, params=params)\n",
    "            response = request.json()\n",
    "            supported_languages = response[\"translation\"].keys()\n",
    "            self._languages_cache = supported_languages\n",
    "            \n",
    "        language_pair_supported = False\n",
    "        if tag_is_valid(sourcelang) and tag_is_valid(targetlang):\n",
    "            if sourcelang in supported_languages and targetlang in supported_languages:\n",
    "                language_pair_supported = True\n",
    "        \n",
    "        return language_pair_supported\n",
    "\n",
    "    def translate_text(self,sourcelang, targetlang, text):\n",
    "        \"\"\"Function to translate text into the target language\"\"\"\n",
    "        translated_text = \"\"\n",
    "        if self.check_langpair(sourcelang,targetlang):\n",
    "            # Add your subscription key and endpoint\n",
    "            subscription_key = self._subscription_key\n",
    "            endpoint = self._endpoint\n",
    "\n",
    "            # Add your location, also known as region. The default is global.\n",
    "            # This is required if using a Cognitive Services resource.\n",
    "            location = self._region\n",
    "\n",
    "            path = '/translate'\n",
    "\n",
    "            params = {\n",
    "                'api-version': '3.0',\n",
    "                'from': sourcelang,\n",
    "                'to': [targetlang]\n",
    "            }\n",
    "            constructed_url = endpoint + path\n",
    "\n",
    "            headers = {\n",
    "                'Ocp-Apim-Subscription-Key': self._subscription_key,\n",
    "                'Ocp-Apim-Subscription-Region': location,\n",
    "                'Content-type': 'application/json',\n",
    "                'X-ClientTraceId': str(uuid.uuid4())\n",
    "            }\n",
    "\n",
    "            # You can pass more than one object in body.\n",
    "            body = [{\n",
    "                'text': text\n",
    "            }]\n",
    "\n",
    "            request = requests.post(constructed_url, params=params, headers=headers, json=body)\n",
    "            response = request.json()\n",
    "            translated_text = response[0][\"translations\"][0][\"text\"]\n",
    "\n",
    "        return translated_text"
   ]
  },
  {
   "cell_type": "code",
   "execution_count": null,
   "metadata": {},
   "outputs": [],
   "source": [
    "#| hide\n",
    "msmt = microsofttranslate()\n",
    "translation = msmt.translate_text(\"en\",\"it\",\"This is a cool car!\")\n",
    "assert translation == \"Questa è una macchina fantastica!\"\n",
    "\n",
    "assert True == msmt.check_langpair(\"en\",\"it\")\n",
    "assert True == msmt.check_langpair(\"en\",\"gu\")"
   ]
  },
  {
   "cell_type": "code",
   "execution_count": null,
   "metadata": {},
   "outputs": [],
   "source": [
    "show_doc(microsofttranslate.check_langpair)"
   ]
  },
  {
   "cell_type": "code",
   "execution_count": null,
   "metadata": {},
   "outputs": [],
   "source": [
    "show_doc(microsofttranslate.translate_text)"
   ]
  },
  {
   "cell_type": "code",
   "execution_count": null,
   "metadata": {},
   "outputs": [],
   "source": [
    "#| hide\n",
    "import nbdev; nbdev.nbdev_export()"
   ]
  }
 ],
 "metadata": {
  "kernelspec": {
   "display_name": "Python 3 (ipykernel)",
   "language": "python",
   "name": "python3"
  }
 },
 "nbformat": 4,
 "nbformat_minor": 1
}
