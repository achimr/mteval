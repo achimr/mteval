{
 "cells": [
  {
   "cell_type": "markdown",
   "metadata": {},
   "source": [
    "# deeplmt\n",
    "> Library to use DeepL machine translation services"
   ]
  },
  {
   "cell_type": "code",
   "execution_count": null,
   "metadata": {},
   "outputs": [],
   "source": [
    "#| default_exp deeplmt"
   ]
  },
  {
   "cell_type": "code",
   "execution_count": null,
   "metadata": {},
   "outputs": [],
   "source": [
    "#| hide\n",
    "import os"
   ]
  },
  {
   "cell_type": "code",
   "execution_count": null,
   "metadata": {},
   "outputs": [],
   "source": [
    "#| hide\n",
    "running_in_colab = 'google.colab' in str(get_ipython())\n",
    "if running_in_colab:\n",
    "    from google.colab import drive\n",
    "    drive.mount('/content/drive')\n",
    "    homedir = \"/content/drive/MyDrive\"\n",
    "else:\n",
    "    homedir = os.getenv('HOME')"
   ]
  },
  {
   "cell_type": "code",
   "execution_count": null,
   "metadata": {},
   "outputs": [],
   "source": [
    "#| hide\n",
    "if running_in_colab:\n",
    "    github_test_folder = homedir+\"/github/polyglottech/mteval\"\n",
    "    %cd {github_test_folder}\n",
    "    !pip3 install nbdev\n",
    "    !pip3 install -e '.[dev]'"
   ]
  },
  {
   "cell_type": "code",
   "execution_count": null,
   "metadata": {},
   "outputs": [],
   "source": [
    "#| hide\n",
    "from dotenv import load_dotenv"
   ]
  },
  {
   "cell_type": "code",
   "execution_count": null,
   "metadata": {},
   "outputs": [],
   "source": [
    "#| hide\n",
    "if running_in_colab:\n",
    "    # Colab doesn't have a mechanism to set environment variables other than python-dotenv\n",
    "    env_file = homedir+'/secrets/.env'\n",
    "    %load_ext dotenv\n",
    "    %dotenv {env_file}"
   ]
  },
  {
   "cell_type": "code",
   "execution_count": null,
   "metadata": {},
   "outputs": [],
   "source": [
    "#| hide\n",
    "from nbdev.showdoc import *"
   ]
  },
  {
   "cell_type": "code",
   "execution_count": null,
   "metadata": {},
   "outputs": [],
   "source": [
    "#| export\n",
    "import os\n",
    "import deepl\n",
    "from pathlib import Path\n",
    "from langcodes import *\n",
    "\n",
    "class deepltranslate:\n",
    "    \"\"\"Class to get translations from the DeepL API\"\"\"\n",
    "    def __init__(self):\n",
    "        \"\"\"Constructor of deepltranslate class\"\"\"\n",
    "        self._apikey = os.getenv('DEEPL_API_KEY')\n",
    "        self._translator = deepl.Translator(self._apikey)\n",
    "        # Caches for supported source and target language ids\n",
    "        self._source_languages = []\n",
    "        self._target_languages = []\n",
    "\n",
    "    def check_langpair(self,sourcelang, targetlang):\n",
    "        \"\"\"Function to check if the language pair is supported\"\"\"\n",
    "        if tag_is_valid(sourcelang) and tag_is_valid(targetlang):\n",
    "            source_langid_upper = sourcelang.upper()\n",
    "            target_langid_upper = targetlang.upper()\n",
    "            supported_source_languages = self._source_languages\n",
    "            if not supported_source_languages:\n",
    "                supported_source_languages = [lang.code for lang in self._translator.get_source_languages()]\n",
    "                self._source_languages = supported_source_languages\n",
    "            supported_target_languages = self._target_languages\n",
    "            if not supported_target_languages:\n",
    "                supported_target_languages = [lang.code for lang in self._translator.get_target_languages()]\n",
    "                self._target_languages = supported_target_languages\n",
    "\n",
    "            if source_langid_upper in supported_source_languages:\n",
    "                if target_langid_upper in supported_target_languages:\n",
    "                    return True\n",
    "        \n",
    "        return False\n",
    "\n",
    "    def translate_text(self,sourcelang, targetlang, text):\n",
    "        \"\"\"Function to translate text into the target language\"\"\"\n",
    "        translated_text = \"\"\n",
    "        if self.check_langpair(sourcelang,targetlang):\n",
    "            source_langid_upper = sourcelang.upper()\n",
    "            target_langid_upper = targetlang.upper()\n",
    "            result = self._translator.translate_text(text,source_lang=source_langid_upper,target_lang=target_langid_upper,split_sentences='off')\n",
    "            translated_text = result.text\n",
    "\n",
    "        return translated_text\n"
   ]
  },
  {
   "cell_type": "code",
   "execution_count": null,
   "metadata": {},
   "outputs": [],
   "source": [
    "#| hide\n",
    "deeplmt = deepltranslate()\n",
    "translation = deeplmt.translate_text(\"en\",\"it\",\"This is a cool car!\")\n",
    "assert translation == \"Questa è una macchina fantastica!\"\n",
    "\n",
    "assert True == deeplmt.check_langpair(\"en\",\"it\")\n",
    "assert False == deeplmt.check_langpair(\"en\",\"gu\")"
   ]
  },
  {
   "cell_type": "code",
   "execution_count": null,
   "metadata": {},
   "outputs": [],
   "source": [
    "show_doc(deepltranslate.translate_text)"
   ]
  },
  {
   "cell_type": "code",
   "execution_count": null,
   "metadata": {},
   "outputs": [],
   "source": [
    "show_doc(deepltranslate.check_langpair)"
   ]
  },
  {
   "cell_type": "code",
   "execution_count": null,
   "metadata": {},
   "outputs": [],
   "source": [
    "#| hide\n",
    "import nbdev; nbdev.nbdev_export()"
   ]
  }
 ],
 "metadata": {
  "kernelspec": {
   "display_name": "Python 3 (ipykernel)",
   "language": "python",
   "name": "python3"
  }
 },
 "nbformat": 4,
 "nbformat_minor": 1
}
