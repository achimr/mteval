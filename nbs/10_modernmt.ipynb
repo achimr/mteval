{
 "cells": [
  {
   "cell_type": "markdown",
   "metadata": {},
   "source": [
    "# modernmt\n",
    "> Library to use ModernMT machine translation services"
   ]
  },
  {
   "cell_type": "code",
   "execution_count": null,
   "metadata": {},
   "outputs": [],
   "source": [
    "#| default_exp modernmt"
   ]
  },
  {
   "cell_type": "code",
   "execution_count": null,
   "metadata": {},
   "outputs": [],
   "source": [
    "#| hide\n",
    "import os"
   ]
  },
  {
   "cell_type": "code",
   "execution_count": null,
   "metadata": {},
   "outputs": [],
   "source": [
    "#| hide\n",
    "running_in_colab = 'google.colab' in str(get_ipython())\n",
    "if running_in_colab:\n",
    "    from google.colab import drive\n",
    "    drive.mount('/content/drive')\n",
    "    homedir = \"/content/drive/MyDrive\"\n",
    "else:\n",
    "    homedir = os.getenv('HOME')"
   ]
  },
  {
   "cell_type": "code",
   "execution_count": null,
   "metadata": {},
   "outputs": [],
   "source": [
    "#| hide\n",
    "if running_in_colab:\n",
    "    github_test_folder = homedir+\"/github/polyglottech/mteval\"\n",
    "    %cd {github_test_folder}\n",
    "    !pip3 install nbdev\n",
    "    !pip3 install -e '.[dev]'"
   ]
  },
  {
   "cell_type": "code",
   "execution_count": null,
   "metadata": {},
   "outputs": [],
   "source": [
    "#| hide\n",
    "from dotenv import load_dotenv"
   ]
  },
  {
   "cell_type": "code",
   "execution_count": null,
   "metadata": {},
   "outputs": [],
   "source": [
    "#| hide\n",
    "if running_in_colab:\n",
    "    # Colab doesn't have a mechanism to set environment variables other than python-dotenv\n",
    "    env_file = homedir+'/secrets/.env'\n",
    "    %load_ext dotenv\n",
    "    %dotenv {env_file}"
   ]
  },
  {
   "cell_type": "code",
   "execution_count": null,
   "metadata": {},
   "outputs": [],
   "source": [
    "#| export\n",
    "import requests, uuid\n",
    "import os\n",
    "from langcodes import *\n",
    "\n",
    "class modernmttranslate:\n",
    "    \"\"\"\n",
    "    Class to get translations from the ModernMT API\n",
    "    \"\"\"\n",
    "    def __init__(self):\n",
    "        \"\"\"Constructor of modernmttranslate class\"\"\"\n",
    "        self._subscription_key = os.getenv('MMT_API_KEY')\n",
    "        self._endpoint = \"https://api.modernmt.com/translate\"\n",
    "        self._languages_cache = []\n",
    "        \n",
    "    def check_langpair(self, sourcelang, targetlang):\n",
    "        \"\"\"Function to verify if a language pair identified by language ids is supported\n",
    "        \n",
    "        Parameters\n",
    "        ----------\n",
    "        sourcelang : str\n",
    "            Source language identifier (BCP-47 format).\n",
    "        targetlang : str\n",
    "            Target language identifier (BCP-47 format).\n",
    "            \n",
    "        Returns\n",
    "        -------\n",
    "        bool\n",
    "            Returns `True` if language pair is supported, otherwise `False`.\n",
    "        \n",
    "        \"\"\"\n",
    "        path = '/languages'\n",
    "        constructed_url = self._endpoint + path\n",
    "        \n",
    "        supported_languages = self._languages_cache\n",
    "        # Cached language array empty if not initialized yet\n",
    "        if not supported_languages:\n",
    "            # Not passing API key here, because authentication isn't required for this API endpoint\n",
    "            request = requests.get(constructed_url)\n",
    "            response = request.json()\n",
    "            supported_languages = response[\"data\"]\n",
    "            self._languages_cache = supported_languages\n",
    "            \n",
    "        language_pair_supported = False\n",
    "        if tag_is_valid(sourcelang) and tag_is_valid(targetlang):\n",
    "            if sourcelang in supported_languages and targetlang in supported_languages:\n",
    "                language_pair_supported = True\n",
    "        \n",
    "        return language_pair_supported\n",
    "\n",
    "    def translate_text(self,sourcelang, targetlang, text):\n",
    "        \"\"\"Function to translate text into the target language\n",
    "        \n",
    "        Parameters\n",
    "        ----------\n",
    "        sourcelang : str\n",
    "            Source language identifier (BCP-47 format).\n",
    "        targetlang : str\n",
    "            Target language identifier (BCP-47 format).\n",
    "        text : str\n",
    "            Source text that is to be translated.\n",
    "            \n",
    "        Returns\n",
    "        -------\n",
    "        str\n",
    "            Translated text.\n",
    "        \"\"\"\n",
    "        translated_text = \"\"\n",
    "        if self.check_langpair(sourcelang,targetlang):\n",
    "            # Add your subscription key and endpoint\n",
    "            subscription_key = self._subscription_key\n",
    "            endpoint = self._endpoint\n",
    "\n",
    "            # For single text translation ModernMT doesn't need a sub path\n",
    "            path = \"\"\n",
    "            params = {\n",
    "                'source': sourcelang,\n",
    "                'target': targetlang,\n",
    "                'q': text\n",
    "            }\n",
    "            constructed_url = endpoint + path\n",
    "\n",
    "            headers = {\n",
    "                'X-HTTP-Method-Override': 'GET',\n",
    "                'Content-Type' : 'application/json',\n",
    "                'MMT-ApiKey' : self._subscription_key\n",
    "            }\n",
    "\n",
    "            request = requests.post(constructed_url, params=params, headers=headers)\n",
    "            response = request.json()\n",
    "            translated_text = response[\"data\"][\"translation\"]\n",
    "\n",
    "        return translated_text"
   ]
  },
  {
   "cell_type": "code",
   "execution_count": null,
   "metadata": {},
   "outputs": [],
   "source": [
    "#| hide\n",
    "from nbdev.showdoc import *"
   ]
  },
  {
   "cell_type": "code",
   "execution_count": null,
   "metadata": {},
   "outputs": [],
   "source": [
    "#| hide\n",
    "modernmt = modernmttranslate()\n",
    "translation = modernmt.translate_text(\"en\",\"it\",\"This is a cool car!\")\n",
    "assert translation == \"Questa è una bella macchina!\"\n",
    "\n",
    "assert True == modernmt.check_langpair(\"en\",\"it\")\n",
    "assert False == modernmt.check_langpair(\"en\",\"gu\")"
   ]
  },
  {
   "cell_type": "code",
   "execution_count": null,
   "metadata": {},
   "outputs": [],
   "source": [
    "show_doc(modernmttranslate.check_langpair)"
   ]
  },
  {
   "cell_type": "code",
   "execution_count": null,
   "metadata": {},
   "outputs": [],
   "source": [
    "show_doc(modernmttranslate.translate_text)"
   ]
  },
  {
   "cell_type": "code",
   "execution_count": null,
   "metadata": {},
   "outputs": [],
   "source": [
    "#| hide\n",
    "import nbdev; nbdev.nbdev_export()"
   ]
  }
 ],
 "metadata": {
  "kernelspec": {
   "display_name": "python3",
   "language": "python",
   "name": "python3"
  }
 },
 "nbformat": 4,
 "nbformat_minor": 1
}
