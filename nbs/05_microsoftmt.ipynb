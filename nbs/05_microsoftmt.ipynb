{
 "cells": [
  {
   "cell_type": "markdown",
   "metadata": {},
   "source": [
    "# microsoftmt\n",
    "> Library to use Microsoft's machine translation services"
   ]
  },
  {
   "cell_type": "code",
   "execution_count": null,
   "metadata": {},
   "outputs": [],
   "source": [
    "#| default_exp microsoftmt"
   ]
  },
  {
   "cell_type": "code",
   "execution_count": null,
   "metadata": {},
   "outputs": [],
   "source": [
    "#| hide\n",
    "running_in_colab = 'google.colab' in str(get_ipython())\n",
    "if running_in_colab:\n",
    "    homedir = os.getenv('HOME')\n",
    "    GITHUB_TEST_FOLDER = homedir+\"/github/polyglottech/mteval\"\n",
    "    %cd {GITHUB_TEST_FOLDER}\n",
    "    !pip3 install -e '.[dev]'"
   ]
  },
  {
   "cell_type": "code",
   "execution_count": null,
   "metadata": {},
   "outputs": [],
   "source": [
    "#| hide\n",
    "from nbdev.showdoc import *"
   ]
  },
  {
   "cell_type": "code",
   "execution_count": null,
   "metadata": {},
   "outputs": [],
   "source": [
    "#| export\n",
    "import requests, uuid\n",
    "import os\n",
    "from dotenv import load_dotenv\n",
    "\n",
    "class microsofttranslate:\n",
    "    \"\"\"\n",
    "    Class to get translations from the Microsoft Translator API\n",
    "    \"\"\"\n",
    "    def __init__(self):\n",
    "        \"\"\"\n",
    "        Constructor of microsofttranslate class\n",
    "\n",
    "        This will load the credentials for the Microsoft Translator API from the environment\n",
    "        \"\"\"\n",
    "        running_in_colab = 'google.colab' in str(get_ipython())\n",
    "        homedir = \"\"\n",
    "        if running_in_colab:\n",
    "            from google.colab import drive\n",
    "            drive.mount('/content/drive')\n",
    "            homedir = \"/content/drive/MyDrive\"\n",
    "            # Colab doesn't have a mechanism to set environment variables other than python-dotenv\n",
    "            ENV_FILE = homedir+'/secrets/.env'\n",
    "            load_dotenv(ENV_FILE)\n",
    "        self._subscription_key = os.getenv('MS_SUBSCRIPTION_KEY')\n",
    "        self._region = os.getenv('MS_REGION')\n",
    "\n",
    "    def translate_text(self,source, target, text):\n",
    "        \"\"\"\n",
    "        Function to translate text into the target language\n",
    "\n",
    "        Parameters:\n",
    "            source (string): source language identifier as an ISO 639-1 language code. See https://g.co/cloud/translate/v2/translate-reference#supported_languages\n",
    "            target (string): target language identifier as an ISO 639-1 language code. See https://g.co/cloud/translate/v2/translate-reference#supported_languages\n",
    "            text (string): Source text to be translated\n",
    "\n",
    "        Returns:\n",
    "            hypothesis: Hypothesis translation from Google Translate\n",
    "        \n",
    "        \"\"\"\n",
    "        # Add your subscription key and endpoint\n",
    "        subscription_key = self._subscription_key\n",
    "        endpoint = \"https://api.cognitive.microsofttranslator.com\"\n",
    "\n",
    "        # Add your location, also known as region. The default is global.\n",
    "        # This is required if using a Cognitive Services resource.\n",
    "        location = self._region\n",
    "\n",
    "        path = '/translate'\n",
    "        constructed_url = endpoint + path\n",
    "\n",
    "        params = {\n",
    "            'api-version': '3.0',\n",
    "            'from': source,\n",
    "            'to': [target]\n",
    "        }\n",
    "        constructed_url = endpoint + path\n",
    "\n",
    "        headers = {\n",
    "            'Ocp-Apim-Subscription-Key': subscription_key,\n",
    "            'Ocp-Apim-Subscription-Region': location,\n",
    "            'Content-type': 'application/json',\n",
    "            'X-ClientTraceId': str(uuid.uuid4())\n",
    "        }\n",
    "\n",
    "        # You can pass more than one object in body.\n",
    "        body = [{\n",
    "            'text': text\n",
    "        }]\n",
    "\n",
    "        request = requests.post(constructed_url, params=params, headers=headers, json=body)\n",
    "        response = request.json()\n",
    "\n",
    "        return response[0][\"translations\"][0][\"text\"]"
   ]
  },
  {
   "cell_type": "code",
   "execution_count": null,
   "metadata": {},
   "outputs": [],
   "source": [
    "#| hide\n",
    "\n",
    "msmt = microsofttranslate()\n",
    "translation = msmt.translate_text(\"en\",\"it\",\"This is a cool car!\")\n",
    "assert translation == \"Questa è una macchina fantastica!\""
   ]
  },
  {
   "cell_type": "code",
   "execution_count": null,
   "metadata": {},
   "outputs": [],
   "source": [
    "#| hide\n",
    "import nbdev; nbdev.nbdev_export()"
   ]
  }
 ],
 "metadata": {
  "kernelspec": {
   "display_name": "Python 3 (ipykernel)",
   "language": "python",
   "name": "python3"
  }
 },
 "nbformat": 4,
 "nbformat_minor": 1
}
