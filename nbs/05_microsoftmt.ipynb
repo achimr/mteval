{
 "cells": [
  {
   "cell_type": "markdown",
   "metadata": {},
   "source": [
    "# microsoftmt\n",
    "> Library to use Microsoft's machine translation services"
   ]
  },
  {
   "cell_type": "code",
   "execution_count": null,
   "metadata": {},
   "outputs": [],
   "source": [
    "#| default_exp microsoftmt"
   ]
  },
  {
   "cell_type": "code",
   "execution_count": null,
   "metadata": {},
   "outputs": [
    {
     "name": "stdout",
     "output_type": "stream",
     "text": [
      "Drive already mounted at /content/drive; to attempt to forcibly remount, call drive.mount(\"/content/drive\", force_remount=True).\n"
     ]
    }
   ],
   "source": [
    "#| hide\n",
    "import os\n",
    "running_in_colab = 'google.colab' in str(get_ipython())\n",
    "if running_in_colab:\n",
    "    from google.colab import drive\n",
    "    drive.mount('/content/drive')\n",
    "    homedir = \"/content/drive/MyDrive\"\n",
    "else:\n",
    "    homedir = os.getenv('HOME')"
   ]
  },
  {
   "cell_type": "code",
   "execution_count": null,
   "metadata": {},
   "outputs": [
    {
     "name": "stdout",
     "output_type": "stream",
     "text": [
      "/content/drive/MyDrive/github/polyglottech/mteval\n",
      "Looking in indexes: https://pypi.org/simple, https://us-python.pkg.dev/colab-wheels/public/simple/\n",
      "Requirement already satisfied: nbdev in /usr/local/lib/python3.7/dist-packages (2.3.9)\n",
      "Requirement already satisfied: watchdog in /usr/local/lib/python3.7/dist-packages (from nbdev) (2.1.9)\n",
      "Requirement already satisfied: astunparse in /usr/local/lib/python3.7/dist-packages (from nbdev) (1.6.3)\n",
      "Requirement already satisfied: asttokens in /usr/local/lib/python3.7/dist-packages (from nbdev) (2.1.0)\n",
      "Requirement already satisfied: fastcore>=1.5.27 in /usr/local/lib/python3.7/dist-packages (from nbdev) (1.5.27)\n",
      "Requirement already satisfied: PyYAML in /usr/local/lib/python3.7/dist-packages (from nbdev) (6.0)\n",
      "Requirement already satisfied: execnb>=0.1.4 in /usr/local/lib/python3.7/dist-packages (from nbdev) (0.1.4)\n",
      "Requirement already satisfied: ghapi>=1.0.3 in /usr/local/lib/python3.7/dist-packages (from nbdev) (1.0.3)\n",
      "Requirement already satisfied: ipython in /usr/local/lib/python3.7/dist-packages (from execnb>=0.1.4->nbdev) (7.9.0)\n",
      "Requirement already satisfied: pip in /usr/local/lib/python3.7/dist-packages (from fastcore>=1.5.27->nbdev) (21.1.3)\n",
      "Requirement already satisfied: packaging in /usr/local/lib/python3.7/dist-packages (from fastcore>=1.5.27->nbdev) (21.3)\n",
      "Requirement already satisfied: six in /usr/local/lib/python3.7/dist-packages (from asttokens->nbdev) (1.15.0)\n",
      "Requirement already satisfied: wheel<1.0,>=0.23.0 in /usr/local/lib/python3.7/dist-packages (from astunparse->nbdev) (0.38.3)\n",
      "Requirement already satisfied: jedi>=0.10 in /usr/local/lib/python3.7/dist-packages (from ipython->execnb>=0.1.4->nbdev) (0.18.1)\n",
      "Requirement already satisfied: pickleshare in /usr/local/lib/python3.7/dist-packages (from ipython->execnb>=0.1.4->nbdev) (0.7.5)\n",
      "Requirement already satisfied: backcall in /usr/local/lib/python3.7/dist-packages (from ipython->execnb>=0.1.4->nbdev) (0.2.0)\n",
      "Requirement already satisfied: prompt-toolkit<2.1.0,>=2.0.0 in /usr/local/lib/python3.7/dist-packages (from ipython->execnb>=0.1.4->nbdev) (2.0.10)\n",
      "Requirement already satisfied: decorator in /usr/local/lib/python3.7/dist-packages (from ipython->execnb>=0.1.4->nbdev) (4.4.2)\n",
      "Requirement already satisfied: pygments in /usr/local/lib/python3.7/dist-packages (from ipython->execnb>=0.1.4->nbdev) (2.6.1)\n",
      "Requirement already satisfied: pexpect in /usr/local/lib/python3.7/dist-packages (from ipython->execnb>=0.1.4->nbdev) (4.8.0)\n",
      "Requirement already satisfied: traitlets>=4.2 in /usr/local/lib/python3.7/dist-packages (from ipython->execnb>=0.1.4->nbdev) (5.1.1)\n",
      "Requirement already satisfied: setuptools>=18.5 in /usr/local/lib/python3.7/dist-packages (from ipython->execnb>=0.1.4->nbdev) (57.4.0)\n",
      "Requirement already satisfied: parso<0.9.0,>=0.8.0 in /usr/local/lib/python3.7/dist-packages (from jedi>=0.10->ipython->execnb>=0.1.4->nbdev) (0.8.3)\n",
      "Requirement already satisfied: wcwidth in /usr/local/lib/python3.7/dist-packages (from prompt-toolkit<2.1.0,>=2.0.0->ipython->execnb>=0.1.4->nbdev) (0.2.5)\n",
      "Requirement already satisfied: pyparsing!=3.0.5,>=2.0.2 in /usr/local/lib/python3.7/dist-packages (from packaging->fastcore>=1.5.27->nbdev) (3.0.9)\n",
      "Requirement already satisfied: ptyprocess>=0.5 in /usr/local/lib/python3.7/dist-packages (from pexpect->ipython->execnb>=0.1.4->nbdev) (0.7.0)\n",
      "Looking in indexes: https://pypi.org/simple, https://us-python.pkg.dev/colab-wheels/public/simple/\n",
      "Obtaining file:///content/drive/MyDrive/github/polyglottech/mteval\n",
      "Requirement already satisfied: sacrebleu[ja,ko] in /usr/local/lib/python3.7/dist-packages (from mteval==0.0.1) (2.3.1)\n",
      "Requirement already satisfied: requests in /usr/local/lib/python3.7/dist-packages (from mteval==0.0.1) (2.23.0)\n",
      "Requirement already satisfied: python-dotenv[cli] in /usr/local/lib/python3.7/dist-packages (from mteval==0.0.1) (0.21.0)\n",
      "Requirement already satisfied: click>=5.0 in /usr/local/lib/python3.7/dist-packages (from python-dotenv[cli]->mteval==0.0.1) (7.1.2)\n",
      "Requirement already satisfied: urllib3!=1.25.0,!=1.25.1,<1.26,>=1.21.1 in /usr/local/lib/python3.7/dist-packages (from requests->mteval==0.0.1) (1.24.3)\n",
      "Requirement already satisfied: idna<3,>=2.5 in /usr/local/lib/python3.7/dist-packages (from requests->mteval==0.0.1) (2.10)\n",
      "Requirement already satisfied: chardet<4,>=3.0.2 in /usr/local/lib/python3.7/dist-packages (from requests->mteval==0.0.1) (3.0.4)\n",
      "Requirement already satisfied: certifi>=2017.4.17 in /usr/local/lib/python3.7/dist-packages (from requests->mteval==0.0.1) (2022.9.24)\n",
      "Requirement already satisfied: portalocker in /usr/local/lib/python3.7/dist-packages (from sacrebleu[ja,ko]->mteval==0.0.1) (2.6.0)\n",
      "Requirement already satisfied: colorama in /usr/local/lib/python3.7/dist-packages (from sacrebleu[ja,ko]->mteval==0.0.1) (0.4.6)\n",
      "Requirement already satisfied: tabulate>=0.8.9 in /usr/local/lib/python3.7/dist-packages (from sacrebleu[ja,ko]->mteval==0.0.1) (0.8.10)\n",
      "Requirement already satisfied: numpy>=1.17 in /usr/local/lib/python3.7/dist-packages (from sacrebleu[ja,ko]->mteval==0.0.1) (1.21.6)\n",
      "Requirement already satisfied: regex in /usr/local/lib/python3.7/dist-packages (from sacrebleu[ja,ko]->mteval==0.0.1) (2022.6.2)\n",
      "Requirement already satisfied: lxml in /usr/local/lib/python3.7/dist-packages (from sacrebleu[ja,ko]->mteval==0.0.1) (4.9.1)\n",
      "Requirement already satisfied: mecab-ko==1.0.0 in /usr/local/lib/python3.7/dist-packages (from sacrebleu[ja,ko]->mteval==0.0.1) (1.0.0)\n",
      "Requirement already satisfied: mecab-ko-dic<2.0,>=1.0 in /usr/local/lib/python3.7/dist-packages (from sacrebleu[ja,ko]->mteval==0.0.1) (1.0.0)\n",
      "Requirement already satisfied: ipadic<2.0,>=1.0 in /usr/local/lib/python3.7/dist-packages (from sacrebleu[ja,ko]->mteval==0.0.1) (1.0.0)\n",
      "Requirement already satisfied: mecab-python3==1.0.5 in /usr/local/lib/python3.7/dist-packages (from sacrebleu[ja,ko]->mteval==0.0.1) (1.0.5)\n",
      "Installing collected packages: mteval\n",
      "  Attempting uninstall: mteval\n",
      "    Found existing installation: mteval 0.0.1\n",
      "    Can't uninstall 'mteval'. No files were found to uninstall.\n",
      "  Running setup.py develop for mteval\n",
      "Successfully installed mteval-0.0.1\n"
     ]
    }
   ],
   "source": [
    "#| hide\n",
    "if running_in_colab:\n",
    "    github_test_folder = homedir+\"/github/polyglottech/mteval\"\n",
    "    %cd {github_test_folder}\n",
    "    !pip3 install nbdev\n",
    "    !pip3 install -e '.[dev]'"
   ]
  },
  {
   "cell_type": "code",
   "execution_count": null,
   "metadata": {},
   "outputs": [
    {
     "name": "stdout",
     "output_type": "stream",
     "text": [
      "The dotenv extension is already loaded. To reload it, use:\n",
      "  %reload_ext dotenv\n"
     ]
    }
   ],
   "source": [
    "#| hide\n",
    "from dotenv import load_dotenv\n",
    "\n",
    "if running_in_colab:\n",
    "    # Colab doesn't have a mechanism to set environment variables other than python-dotenv\n",
    "    env_file = homedir+'/secrets/.env'\n",
    "    %load_ext dotenv\n",
    "    %dotenv {env_file}"
   ]
  },
  {
   "cell_type": "code",
   "execution_count": null,
   "metadata": {},
   "outputs": [],
   "source": [
    "#| hide\n",
    "from nbdev.showdoc import *"
   ]
  },
  {
   "cell_type": "code",
   "execution_count": null,
   "metadata": {},
   "outputs": [],
   "source": [
    "#| export\n",
    "import requests, uuid\n",
    "import os\n",
    "\n",
    "class microsofttranslate:\n",
    "    \"\"\"\n",
    "    Class to get translations from the Microsoft Translator API\n",
    "    \"\"\"\n",
    "    def __init__(self):\n",
    "        \"\"\"Constructor of microsofttranslate class\"\"\"\n",
    "        self._subscription_key = os.getenv('MS_SUBSCRIPTION_KEY')\n",
    "        self._region = os.getenv('MS_REGION')\n",
    "\n",
    "    def translate_text(self,source, target, text):\n",
    "        \"\"\"Function to translate text into the target language        \"\"\"\n",
    "        # Add your subscription key and endpoint\n",
    "        subscription_key = self._subscription_key\n",
    "        endpoint = \"https://api.cognitive.microsofttranslator.com\"\n",
    "\n",
    "        # Add your location, also known as region. The default is global.\n",
    "        # This is required if using a Cognitive Services resource.\n",
    "        location = self._region\n",
    "\n",
    "        path = '/translate'\n",
    "        constructed_url = endpoint + path\n",
    "\n",
    "        params = {\n",
    "            'api-version': '3.0',\n",
    "            'from': source,\n",
    "            'to': [target]\n",
    "        }\n",
    "        constructed_url = endpoint + path\n",
    "\n",
    "        headers = {\n",
    "            'Ocp-Apim-Subscription-Key': subscription_key,\n",
    "            'Ocp-Apim-Subscription-Region': location,\n",
    "            'Content-type': 'application/json',\n",
    "            'X-ClientTraceId': str(uuid.uuid4())\n",
    "        }\n",
    "\n",
    "        # You can pass more than one object in body.\n",
    "        body = [{\n",
    "            'text': text\n",
    "        }]\n",
    "\n",
    "        request = requests.post(constructed_url, params=params, headers=headers, json=body)\n",
    "        response = request.json()\n",
    "\n",
    "        return response[0][\"translations\"][0][\"text\"]"
   ]
  },
  {
   "cell_type": "code",
   "execution_count": null,
   "metadata": {},
   "outputs": [],
   "source": [
    "#| hide\n",
    "msmt = microsofttranslate()\n",
    "translation = msmt.translate_text(\"en\",\"it\",\"This is a cool car!\")\n",
    "assert translation == \"Questa è una macchina fantastica!\""
   ]
  },
  {
   "cell_type": "code",
   "execution_count": null,
   "metadata": {},
   "outputs": [],
   "source": [
    "#| hide\n",
    "import nbdev; nbdev.nbdev_export()"
   ]
  }
 ],
 "metadata": {
  "kernelspec": {
   "display_name": "Python 3 (ipykernel)",
   "language": "python",
   "name": "python3"
  }
 },
 "nbformat": 4,
 "nbformat_minor": 0
}
