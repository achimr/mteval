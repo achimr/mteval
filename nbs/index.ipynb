{
 "cells": [
  {
   "cell_type": "markdown",
   "metadata": {},
   "source": [
    "# mteval\n",
    "\n",
    "> Library to automate machine translation evaluation\n"
   ]
  },
  {
   "cell_type": "markdown",
   "metadata": {},
   "source": [
    "[![Open In Colab](https://colab.research.google.com/assets/colab-badge.svg)](https://colab.research.google.com/github/polyglottech/mteval/blob/main/nbs/index.ipynb)"
   ]
  },
  {
   "cell_type": "markdown",
   "metadata": {},
   "source": [
    "## Install"
   ]
  },
  {
   "cell_type": "markdown",
   "metadata": {},
   "source": [
    "### Installing the library from PyPI"
   ]
  },
  {
   "cell_type": "markdown",
   "metadata": {},
   "source": [
    "```sh\n",
    "pip install mteval\n",
    "```"
   ]
  },
  {
   "cell_type": "markdown",
   "metadata": {},
   "source": [
    "### Setting up Cloud authentication and parameters in the environment\n",
    "This library currently supports the cloud translation services Amazon Translate, DeepL, Google Translate and Microsoft Translator. To authenticate with the services and configure them, you need to set the following enviroment variables\n",
    "```\n",
    "export GOOGLE_APPLICATION_CREDENTIALS='/path/to/google/credentials/file.json'\n",
    "export GOOGLE_PROJECT_ID=''\n",
    "export MS_SUBSCRIPTION_KEY=''\n",
    "export MS_REGION=''\n",
    "export AWS_DEFAULT_REGION=''\n",
    "export AWS_ACCESS_KEY_ID=''\n",
    "export AWS_SECRET_ACCESS_KEY=''\n",
    "export DEEPL_API_KEY=''\n",
    "```\n",
    "#### How to obtain subscription credentials\n",
    "\n",
    "* [Amazon Translate](https://docs.aws.amazon.com/translate/latest/dg/setting-up.html)\n",
    "* [DeepL](https://www.deepl.com/docs-api/api-access/authentication/)\n",
    "* [Google Translate](https://cloud.google.com/translate/docs/setup)\n",
    "* [Microsoft Translator](https://learn.microsoft.com/en-us/azure/cognitive-services/translator/how-to-create-translator-resource)\n",
    "\n",
    "You can set the environment values by adding above `export` statements to your `.bashrc` file in Linux or in Jupyter notebook by adding environment variables to the kernel configuration file [kernel.json](https://jupyter-client.readthedocs.io/en/stable/kernels.html#kernel-specs).\n",
    "\n",
    "This library has only been tested on Linux, not Windows or MacOS."
   ]
  },
  {
   "cell_type": "markdown",
   "metadata": {},
   "source": [
    "### On Google Colab: Loading the environment from a .env file\n",
    "[Google Colab](https://research.google.com/colaboratory/faq.html), which is a hosted cloud solution for Jupyter notebooks with GPU runtimes, doesn't support persistent environment variables. The environment variables can be stored in a `.env` file on Google Drive and loaded at each start of a notebook using `mteval`."
   ]
  },
  {
   "cell_type": "code",
   "execution_count": null,
   "metadata": {},
   "outputs": [],
   "source": [
    "import os\n",
    "running_in_colab = 'google.colab' in str(get_ipython())\n",
    "if running_in_colab:\n",
    "    from google.colab import drive\n",
    "    drive.mount('/content/drive')\n",
    "    homedir = \"/content/drive/MyDrive\"\n",
    "else:\n",
    "    homedir = os.getenv('HOME')"
   ]
  },
  {
   "cell_type": "code",
   "execution_count": null,
   "metadata": {},
   "outputs": [],
   "source": [
    "from dotenv import load_dotenv\n",
    "\n",
    "if running_in_colab:\n",
    "    # Colab doesn't have a mechanism to set environment variables other than python-dotenv\n",
    "    env_file = homedir+'/secrets/.env'\n",
    "    %load_ext dotenv\n",
    "    %dotenv {env_file}"
   ]
  },
  {
   "cell_type": "markdown",
   "metadata": {},
   "source": [
    "Also make sure to store the Google Cloud credentials file on Google Drive, e.g. in the `/content/drive/MyDrive/secrets/` folder."
   ]
  },
  {
   "cell_type": "markdown",
   "metadata": {},
   "source": [
    "## How to use"
   ]
  },
  {
   "cell_type": "code",
   "execution_count": null,
   "metadata": {},
   "outputs": [
    {
     "data": {
      "text/plain": [
       "2"
      ]
     },
     "execution_count": null,
     "metadata": {},
     "output_type": "execute_result"
    }
   ],
   "source": [
    "1+1"
   ]
  },
  {
   "cell_type": "code",
   "execution_count": null,
   "metadata": {},
   "outputs": [],
   "source": []
  }
 ],
 "metadata": {
  "kernelspec": {
   "display_name": "Python 3 (ipykernel)",
   "language": "python",
   "name": "python3"
  }
 },
 "nbformat": 4,
 "nbformat_minor": 4
}
