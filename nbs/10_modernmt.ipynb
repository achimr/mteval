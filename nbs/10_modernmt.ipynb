{
 "cells": [
  {
   "cell_type": "markdown",
   "metadata": {},
   "source": [
    "# modernmt\n",
    "> Library to use ModernMT machine translation services"
   ]
  },
  {
   "cell_type": "code",
   "execution_count": null,
   "metadata": {},
   "outputs": [],
   "source": [
    "#| default_exp modernmt"
   ]
  },
  {
   "cell_type": "code",
   "execution_count": null,
   "metadata": {},
   "outputs": [],
   "source": [
    "#| hide\n",
    "import os"
   ]
  },
  {
   "cell_type": "code",
   "execution_count": null,
   "metadata": {},
   "outputs": [],
   "source": [
    "#| hide\n",
    "running_in_colab = 'google.colab' in str(get_ipython())\n",
    "if running_in_colab:\n",
    "    from google.colab import drive\n",
    "    drive.mount('/content/drive')\n",
    "    homedir = \"/content/drive/MyDrive\"\n",
    "else:\n",
    "    homedir = os.getenv('HOME')"
   ]
  },
  {
   "cell_type": "code",
   "execution_count": null,
   "metadata": {},
   "outputs": [],
   "source": [
    "#| hide\n",
    "if running_in_colab:\n",
    "    github_test_folder = homedir+\"/github/polyglottech/mteval\"\n",
    "    %cd {github_test_folder}\n",
    "    !pip3 install nbdev\n",
    "    !pip3 install -e '.[dev]'"
   ]
  },
  {
   "cell_type": "code",
   "execution_count": null,
   "metadata": {},
   "outputs": [],
   "source": [
    "#| hide\n",
    "from dotenv import load_dotenv"
   ]
  },
  {
   "cell_type": "code",
   "execution_count": null,
   "metadata": {},
   "outputs": [],
   "source": [
    "#| hide\n",
    "if running_in_colab:\n",
    "    # Colab doesn't have a mechanism to set environment variables other than python-dotenv\n",
    "    env_file = homedir+'/secrets/.env'\n",
    "    %load_ext dotenv\n",
    "    %dotenv {env_file}"
   ]
  },
  {
   "cell_type": "code",
   "execution_count": null,
   "metadata": {},
   "outputs": [],
   "source": [
    "#| export\n",
    "import uuid\n",
    "import os\n",
    "from langcodes import *\n",
    "from modernmt import ModernMT\n",
    "\n",
    "class modernmttranslate:\n",
    "    \"\"\"\n",
    "    Class to get translations from the ModernMT API\n",
    "    \"\"\"\n",
    "    def __init__(self,adaptive=False,adaptation_tm=None,reference_tms=None):\n",
    "        \"\"\"Constructor of modernmttranslate class\"\"\"\n",
    "        # TBD: there is probably a good way to read the version from the configuration in setup.py\n",
    "        self._mmt = ModernMT(os.getenv('MMT_API_KEY'),\"mteval\",\"0.0.1\")\n",
    "        self._languages_cache = []\n",
    "        self.adaptive = adaptive\n",
    "        if adaptive:\n",
    "            if adaptation_tm:\n",
    "                self._adaptation_tm_id = adaptation_tm\n",
    "            else:\n",
    "                self._adaptation_tm_id = self.create_adaptation_tm()\n",
    "                \n",
    "    def create_adaptation_tm(self):\n",
    "        \"\"\"\n",
    "        Function to create empty translation memory (TM) for adaptative MT.\n",
    "\n",
    "        Returns\n",
    "        -------\n",
    "        int\n",
    "            Returns ModernMT ID for created translation memory.\n",
    "        \"\"\"\n",
    "        \n",
    "        adaptation_tm = self._mmt.memories.create(str(uuid.uuid4()))\n",
    "        adaptation_tm_id = adaptation_tm.id\n",
    "        \n",
    "        return adaptation_tm_id\n",
    "    \n",
    "    def add_reference_translation(self, tuid, sourcelang, targetlang, source, reference):\n",
    "        # TBD: should tuid be an integer or more universally a string?\n",
    "        \"\"\"Function to submit a new reference translation (most often post-edited translation) to the adaptation TM.\n",
    "        \n",
    "        Parameters\n",
    "        ----------\n",
    "        tuid :\n",
    "            Unique ID of the translation segment - if it exists, the segment gets overwritten\n",
    "        sourcelang : str\n",
    "            Source language identifier (BCP-47 format).\n",
    "        targetlang : str\n",
    "            Target language identifier (BCP-47 format).\n",
    "        source : str\n",
    "            Source text.\n",
    "        reference : str\n",
    "            Reference translation, possibly post-edited from machine translation.\n",
    "\n",
    "        \"\"\"\n",
    "        import_job = self._mmt.memories.add(self._adaptation_tm_id, sourcelang, targetlang, source, reference, str(tuid))\n",
    "        \n",
    "        # Waiting for the import job is blocking - this is acceptable for evaluation, but probably not for live translation\n",
    "        import_job_id = import_job.id\n",
    "        finished = import_job.progress\n",
    "        while not finished:\n",
    "            import_job = self._mmt.memories.get_import_status(import_job_id)\n",
    "            finished = import_job.progress   \n",
    "        \n",
    "        return\n",
    "        \n",
    "    def check_langpair(self, sourcelang, targetlang):\n",
    "        \"\"\"Function to verify if a language pair identified by language ids is supported\n",
    "        \n",
    "        Parameters\n",
    "        ----------\n",
    "        sourcelang : str\n",
    "            Source language identifier (BCP-47 format).\n",
    "        targetlang : str\n",
    "            Target language identifier (BCP-47 format).\n",
    "            \n",
    "        Returns\n",
    "        -------\n",
    "        bool\n",
    "            Returns `True` if language pair is supported, otherwise `False`.\n",
    "        \n",
    "        \"\"\"\n",
    "        supported_languages = self._languages_cache\n",
    "        # Cached language array empty if not initialized yet\n",
    "        if not supported_languages:\n",
    "            supported_languages = self._mmt.list_supported_languages()\n",
    "            self._languages_cache = supported_languages\n",
    "            \n",
    "        language_pair_supported = False\n",
    "        if tag_is_valid(sourcelang) and tag_is_valid(targetlang):\n",
    "            if sourcelang in supported_languages and targetlang in supported_languages:\n",
    "                language_pair_supported = True\n",
    "        \n",
    "        return language_pair_supported\n",
    "\n",
    "    def translate_text(self,sourcelang, targetlang, text):\n",
    "        \"\"\"Function to translate text into the target language\n",
    "        \n",
    "        Parameters\n",
    "        ----------\n",
    "        sourcelang : str\n",
    "            Source language identifier (BCP-47 format).\n",
    "        targetlang : str\n",
    "            Target language identifier (BCP-47 format).\n",
    "        text : str\n",
    "            Source text that is to be translated.\n",
    "            \n",
    "        Returns\n",
    "        -------\n",
    "        str\n",
    "            Translated text.\n",
    "        \"\"\"\n",
    "        translated_text = \"\"\n",
    "        if self.check_langpair(sourcelang,targetlang):\n",
    "            if self.adaptive:\n",
    "                # TBD: Later need to add reference TMs too\n",
    "                translation = self._mmt.translate(sourcelang, targetlang, text,hints=[self._adaptation_tm_id])\n",
    "            else:\n",
    "                translation = self._mmt.translate(sourcelang, targetlang, text)\n",
    "            translated_text = translation.translation\n",
    "\n",
    "        return translated_text"
   ]
  },
  {
   "cell_type": "code",
   "execution_count": null,
   "metadata": {},
   "outputs": [],
   "source": [
    "#| hide\n",
    "from nbdev.showdoc import *"
   ]
  },
  {
   "cell_type": "code",
   "execution_count": null,
   "metadata": {},
   "outputs": [],
   "source": [
    "#| hide\n",
    "modernmt = modernmttranslate()\n",
    "translation = modernmt.translate_text(\"en\",\"it\",\"This is a cool car!\")\n",
    "assert translation == \"Questa è una bella macchina!\"\n",
    "\n",
    "assert True == modernmt.check_langpair(\"en\",\"it\")\n",
    "assert False == modernmt.check_langpair(\"en\",\"gu\")"
   ]
  },
  {
   "cell_type": "code",
   "execution_count": null,
   "metadata": {},
   "outputs": [],
   "source": [
    "#| hide\n",
    "modernmt_adaptive = modernmttranslate(adaptive=True)\n",
    "first_translation = modernmt_adaptive.translate_text(\"en\",\"it\",\"This is a cool car!\")\n",
    "assert first_translation == \"Questa è una bella macchina!\"\n",
    "modernmt_adaptive.add_reference_translation(1,\"en\",\"it\",\"This is a cool car!\",\"Questa è una macchina fantastica!\")\n",
    "second_translation = modernmt_adaptive.translate_text(\"en\",\"it\",\"This is a cool car!\")\n",
    "assert second_translation == \"Questa è una macchina fantastica!\""
   ]
  },
  {
   "cell_type": "code",
   "execution_count": null,
   "metadata": {},
   "outputs": [],
   "source": [
    "show_doc(modernmttranslate.create_adaptation_tm)"
   ]
  },
  {
   "cell_type": "code",
   "execution_count": null,
   "metadata": {},
   "outputs": [],
   "source": [
    "show_doc(modernmttranslate.add_reference_translation)"
   ]
  },
  {
   "cell_type": "code",
   "execution_count": null,
   "metadata": {},
   "outputs": [],
   "source": [
    "show_doc(modernmttranslate.check_langpair)"
   ]
  },
  {
   "cell_type": "code",
   "execution_count": null,
   "metadata": {},
   "outputs": [],
   "source": [
    "show_doc(modernmttranslate.translate_text)"
   ]
  },
  {
   "cell_type": "code",
   "execution_count": null,
   "metadata": {},
   "outputs": [],
   "source": [
    "#| hide\n",
    "import nbdev; nbdev.nbdev_export()"
   ]
  }
 ],
 "metadata": {
  "kernelspec": {
   "display_name": "python3",
   "language": "python",
   "name": "python3"
  }
 },
 "nbformat": 4,
 "nbformat_minor": 1
}
