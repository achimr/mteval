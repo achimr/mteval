{
 "cells": [
  {
   "cell_type": "markdown",
   "metadata": {},
   "source": [
    "# awsmt\n",
    "> Library to use Amazon Web Service machine translation services"
   ]
  },
  {
   "cell_type": "code",
   "execution_count": null,
   "metadata": {},
   "outputs": [],
   "source": [
    "#| default_exp awsmt"
   ]
  },
  {
   "cell_type": "code",
   "execution_count": null,
   "metadata": {},
   "outputs": [],
   "source": [
    "#| hide\n",
    "import os"
   ]
  },
  {
   "cell_type": "code",
   "execution_count": null,
   "metadata": {},
   "outputs": [],
   "source": [
    "#| hide\n",
    "running_in_colab = 'google.colab' in str(get_ipython())\n",
    "if running_in_colab:\n",
    "    from google.colab import drive\n",
    "    drive.mount('/content/drive')\n",
    "    homedir = \"/content/drive/MyDrive\"\n",
    "else:\n",
    "    homedir = os.getenv('HOME')"
   ]
  },
  {
   "cell_type": "code",
   "execution_count": null,
   "metadata": {},
   "outputs": [],
   "source": [
    "#| hide\n",
    "if running_in_colab:\n",
    "    github_test_folder = homedir+\"/github/polyglottech/mteval\"\n",
    "    %cd {github_test_folder}\n",
    "    !pip3 install nbdev\n",
    "    !pip3 install -e '.[dev]'"
   ]
  },
  {
   "cell_type": "code",
   "execution_count": null,
   "metadata": {},
   "outputs": [],
   "source": [
    "#| hide\n",
    "from dotenv import load_dotenv"
   ]
  },
  {
   "cell_type": "code",
   "execution_count": null,
   "metadata": {},
   "outputs": [],
   "source": [
    "#| hide\n",
    "if running_in_colab:\n",
    "    # Colab doesn't have a mechanism to set environment variables other than python-dotenv\n",
    "    env_file = homedir+'/secrets/.env'\n",
    "    %load_ext dotenv\n",
    "    %dotenv {env_file}"
   ]
  },
  {
   "cell_type": "code",
   "execution_count": null,
   "metadata": {},
   "outputs": [],
   "source": [
    "#| hide\n",
    "from nbdev.showdoc import *"
   ]
  },
  {
   "cell_type": "code",
   "execution_count": null,
   "metadata": {},
   "outputs": [],
   "source": [
    "#| export\n",
    "import os\n",
    "import boto3\n",
    "import time\n",
    "from pathlib import Path\n",
    "from langcodes import *\n",
    "\n",
    "class awstranslate:\n",
    "    \"\"\"Class to get translations from the Amazon Web Service Translate API\"\"\"\n",
    "    def __init__(self):\n",
    "        \"\"\"Constructor of awstranslate class\"\"\"\n",
    "        # Authentication via environment variables\n",
    "        self._translate_client = boto3.client(service_name='translate', use_ssl=True)\n",
    "        \n",
    "        # Initializing the list of supported languages (source or target)\n",
    "        self._supported_langs = [x[\"LanguageCode\"] for x in self._translate_client.list_languages()[\"Languages\"]]\n",
    "\n",
    "    def check_langpair(self, sourcelang, targetlang):\n",
    "        \"\"\"Function to verify if a language pair identified by language ids is supported\"\"\"\n",
    "        supported = False\n",
    "        if tag_is_valid(sourcelang) and tag_is_valid(targetlang):\n",
    "            if sourcelang in self._supported_langs and targetlang in self._supported_langs:\n",
    "                supported = True\n",
    "            \n",
    "        return supported\n",
    "    \n",
    "    def translate_text(self,sourcelang, targetlang, text):\n",
    "        \"\"\"Function to translate text into the target language\"\"\"\n",
    "        \n",
    "        translated_text = \"\"\n",
    "        if self.check_langpair(sourcelang,targetlang):\n",
    "            result = self._translate_client.translate_text(Text=text, SourceLanguageCode=sourcelang, TargetLanguageCode=targetlang)\n",
    "            translated_text = result.get('TranslatedText')\n",
    "        \n",
    "        return translated_text\n",
    "       \n"
   ]
  },
  {
   "cell_type": "code",
   "execution_count": null,
   "metadata": {},
   "outputs": [],
   "source": [
    "#| hide\n",
    "awsmt = awstranslate()\n",
    "supported = awsmt.check_langpair(\"en\",\"it\")\n",
    "assert supported == True \n",
    "translation = awsmt.translate_text(\"en\",\"it\",\"This is a cool car!\")\n",
    "assert translation == \"Questa è una bella macchina!\""
   ]
  },
  {
   "cell_type": "code",
   "execution_count": null,
   "metadata": {},
   "outputs": [],
   "source": [
    "show_doc(awstranslate.check_langpair)\n",
    "show_doc(awstranslate.translate_text)"
   ]
  },
  {
   "cell_type": "code",
   "execution_count": null,
   "metadata": {},
   "outputs": [],
   "source": [
    "#| hide\n",
    "import nbdev; nbdev.nbdev_export()"
   ]
  }
 ],
 "metadata": {
  "kernelspec": {
   "display_name": "Python 3 (ipykernel)",
   "language": "python",
   "name": "python3"
  }
 },
 "nbformat": 4,
 "nbformat_minor": 1
}
