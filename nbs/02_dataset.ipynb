{
 "cells": [
  {
   "cell_type": "markdown",
   "metadata": {},
   "source": [
    "# dataset\n",
    "> Functions to read machine translation evaluation datasets"
   ]
  },
  {
   "cell_type": "code",
   "execution_count": null,
   "metadata": {},
   "outputs": [],
   "source": [
    "#| default_exp dataset"
   ]
  },
  {
   "cell_type": "code",
   "execution_count": null,
   "metadata": {},
   "outputs": [],
   "source": [
    "#| hide\n",
    "import os\n",
    "running_in_colab = 'google.colab' in str(get_ipython())\n",
    "homedir = \"\"\n",
    "if running_in_colab:\n",
    "    from google.colab import drive\n",
    "    drive.mount('/content/drive')\n",
    "    homedir = \"/content/drive/MyDrive\"\n",
    "else:\n",
    "    homedir = os.getenv('HOME')"
   ]
  },
  {
   "cell_type": "code",
   "execution_count": null,
   "metadata": {},
   "outputs": [],
   "source": [
    "#| hide\n",
    "if running_in_colab:\n",
    "    GITHUB_TEST_FOLDER = homedir+\"/github/polyglottech/mteval\"\n",
    "    %cd {GITHUB_TEST_FOLDER}\n",
    "    !pip3 install -e '.[dev]'"
   ]
  },
  {
   "cell_type": "code",
   "execution_count": null,
   "metadata": {},
   "outputs": [],
   "source": [
    "#| hide\n",
    "from nbdev.showdoc import show_doc"
   ]
  },
  {
   "cell_type": "code",
   "execution_count": null,
   "metadata": {},
   "outputs": [],
   "source": [
    "#| export\n",
    "import sys\n",
    "def read_source_ref(source_path,ref_path):\n",
    "    \"\"\"Read the testset into two arrays and return them\"\"\"\n",
    "    source_lines = []\n",
    "    reference_lines = []\n",
    "    with open(source_path) as source_fh, open(ref_path) as reference_fh :\n",
    "        for (source_line,reference_line) in zip(source_fh,reference_fh):\n",
    "            source_line = source_line.rstrip()\n",
    "            source_lines.append(source_line)\n",
    "            reference_line = reference_line.rstrip()\n",
    "            reference_lines.append(reference_line) \n",
    "    return source_lines, reference_lines"
   ]
  },
  {
   "cell_type": "code",
   "execution_count": null,
   "metadata": {},
   "outputs": [],
   "source": [
    "#| export\n",
    "from pathlib import Path\n",
    "import sys\n",
    "import os\n",
    "from sacrebleu.utils import download_test_set\n",
    "from shutil import copy\n",
    "def download_read_set(base_path,source_language_code,target_language_code,test_set_name):\n",
    "    \"\"\"Downloads data set if it is not cached. Return source and reference arrays.\"\"\"\n",
    "    language_pair = source_language_code+\"-\"+target_language_code\n",
    "    output_path = base_path+source_language_code+\"_\"+target_language_code+\"/\"+test_set_name\n",
    "    source_path = output_path+\"/src.\"+language_pair+\".\"+source_language_code\n",
    "    ref_path = output_path+\"/ref.\"+language_pair+\".\"+target_language_code\n",
    "\n",
    "    # Download source and language files if they do not exist yet\n",
    "    source_file = Path(source_path)\n",
    "    ref_file = Path(ref_path)\n",
    "    if not source_file.exists() and not ref_file.exists():\n",
    "        file_paths = download_test_set(test_set_name,language_pair)\n",
    "        # Create the output path if it doesn't already exist\n",
    "        os.makedirs(output_path,exist_ok=True)\n",
    "        # Backing up the source and reference files to the output folder \n",
    "        copy(file_paths[0],source_path)\n",
    "        copy(file_paths[1],ref_path)\n",
    "    \n",
    "    return read_source_ref(source_path,ref_path)"
   ]
  },
  {
   "cell_type": "code",
   "execution_count": null,
   "metadata": {},
   "outputs": [],
   "source": [
    "#| export\n",
    "from pathlib import Path\n",
    "import os\n",
    "import errno\n",
    "\n",
    "def read_own_set(base_path,source_language_code,target_language_code,test_set_name,date=''):\n",
    "    \"\"\"Reads already present non-sacrebleu test set. Return source and reference arrays.\"\"\"\n",
    "    language_pair = source_language_code+\"-\"+target_language_code\n",
    "    if date != '':\n",
    "        output_path = base_path+source_language_code+\"_\"+target_language_code+\"/\"+date+\"/\"+test_set_name\n",
    "    else:\n",
    "        output_path = base_path+source_language_code+\"_\"+target_language_code+\"/\"+test_set_name\n",
    "    source_path = output_path+\"/src.\"+language_pair+\".\"+source_language_code\n",
    "    ref_path = output_path+\"/ref.\"+language_pair+\".\"+target_language_code\n",
    "\n",
    "    # Download source and language files if they do not exist yet\n",
    "    source_file = Path(source_path)\n",
    "    ref_file = Path(ref_path)\n",
    "    if not source_file.exists():\n",
    "        raise FileNotFoundError(errno.ENOENT,os.strerror(errno.ENOENT),source_path) \n",
    "    if not ref_file.exists():\n",
    "        raise FileNotFoundError(errno.ENOENT,os.strerror(errno.ENOENT),ref_path) \n",
    "    \n",
    "    return read_source_ref(source_path,ref_path)"
   ]
  },
  {
   "cell_type": "code",
   "execution_count": null,
   "metadata": {},
   "outputs": [],
   "source": [
    "#| hide\n",
    "mteval_test_path = homedir+\"/mteval_test/\"\n",
    "source_seg, ref_seg = download_read_set(mteval_test_path,\"en\",\"it\",\"wmt09\")\n",
    "assert len(source_seg) == 3027\n",
    "assert len(ref_seg) == 3027"
   ]
  },
  {
   "cell_type": "code",
   "execution_count": null,
   "metadata": {},
   "outputs": [],
   "source": [
    "#| hide\n",
    "# After the test set has been downloaded initially\n",
    "import os\n",
    "mteval_test_path = homedir+\"/mteval_test/\"\n",
    "\n",
    "# Making sure the files to read are present if tests are run in parallel (?)\n",
    "download_read_set(mteval_test_path,\"en\",\"it\",\"wmt09\")\n",
    "source_seg, ref_seg = read_own_set(mteval_test_path,\"en\",\"it\",\"wmt09\")\n",
    "assert len(source_seg) == 3027\n",
    "assert len(ref_seg) == 3027"
   ]
  },
  {
   "cell_type": "code",
   "execution_count": null,
   "metadata": {},
   "outputs": [],
   "source": [
    "#| export\n",
    "import sys\n",
    "def get_translated_test_set(base_path,sourcelang,targetlang,mtengine,test_set_name,test_date):\n",
    "    \"\"\"Read MT hypothesis translations for specified MT engine\"\"\"\n",
    "    target_lines = []\n",
    "    langpair = sourcelang+\"-\"+targetlang\n",
    "    output_filename = \"hyp_\"+mtengine+\".\"+langpair+\".\"+targetlang\n",
    "    from pathlib import Path\n",
    "    translate_file = Path(base_path+sourcelang+\"_\"+targetlang+\"/\"+test_date+\"/\"+test_set_name+\"/\"+output_filename)\n",
    "    if translate_file.exists():\n",
    "        with translate_file.open() as target_file:\n",
    "            for target_line in target_file:\n",
    "                target_line = target_line.rstrip()\n",
    "                target_lines.append(target_line)\n",
    "        return target_lines\n",
    "    else:\n",
    "        raise FileNotFoundError(errno.ENOENT,os.strerror(errno.ENOENT),translate_file) "
   ]
  },
  {
   "cell_type": "code",
   "execution_count": null,
   "metadata": {},
   "outputs": [],
   "source": [
    "#| hide\n",
    "# Unit test for get_translated_test_set\n",
    "# Fake MT hypothesis file with reference translation file for fake test date\n",
    "import os\n",
    "from shutil import copy\n",
    "mteval_test_path = homedir+\"/mteval_test/\"\n",
    "os.makedirs(mteval_test_path+\"/en_it/2022-11-09/wmt09/\",exist_ok=True)\n",
    "copy(mteval_test_path+\"/en_it/wmt09/ref.en-it.it\",mteval_test_path+\"/en_it/2022-11-09/wmt09/hyp_superengine.en-it.it\")\n",
    "hyp_seg = get_translated_test_set(mteval_test_path,\"en\",\"it\",\"superengine\",\"wmt09\",\"2022-11-09\")\n",
    "assert len(hyp_seg) == 3027"
   ]
  },
  {
   "cell_type": "code",
   "execution_count": null,
   "metadata": {},
   "outputs": [],
   "source": [
    "#| export\n",
    "from pathlib import Path\n",
    "import os\n",
    "import errno\n",
    "\n",
    "def read_tsv_set(tsv_file):\n",
    "    \"\"\"Reads complete evaluation set from TSV file containing source, hypothesis and reference\"\"\"\n",
    "    sources = []\n",
    "    hypotheses = []\n",
    "    references = []\n",
    "    line_counter = 0\n",
    "    with open(tsv_file,\"r\") as tsv_fh:\n",
    "        for tsv_line in tsv_fh:\n",
    "            line_counter += 1\n",
    "            tsv_line = tsv_line.rstrip()\n",
    "            source, hypothesis, reference = tsv_line.split('\\t')[:3]\n",
    "            if not source:\n",
    "                raise ValueError('source string is empty; line:'+str(line_counter))\n",
    "            if not hypothesis:\n",
    "                raise ValueError('hypothesis string is empty; line:'+str(line_counter))\n",
    "            if not reference:\n",
    "                raise ValueError('reference string is empty; line:'+str(line_counter))\n",
    "            sources.append(source)\n",
    "            hypotheses.append(hypothesis)\n",
    "            references.append(reference)\n",
    "    return sources,hypotheses,references"
   ]
  },
  {
   "cell_type": "code",
   "execution_count": null,
   "metadata": {},
   "outputs": [],
   "source": [
    "#| hide\n",
    "# Unit test for read_tsv_set\n",
    "mteval_test_path = homedir+\"/mteval_test/\"\n",
    "# Create dummy TSV file from previously read test data\n",
    "import csv\n",
    "# newline=\"\" here means that no OS-specific translation of end-of-line characters takes place\n",
    "# end-of-line characters are specified in the csv class instantiation parameter lineterminator\n",
    "with open(mteval_test_path+\"dummy.tsv\",\"w\",newline=\"\") as tsv_file:\n",
    "    tsv_writer = csv.writer(tsv_file, delimiter='\\t', lineterminator='\\n')\n",
    "    for i in range(10):\n",
    "        tsv_writer.writerow([source_seg[i],hyp_seg[i],ref_seg[i]])\n",
    "(test_sources,test_hypotheses,test_references) = read_tsv_set(mteval_test_path+\"dummy.tsv\")\n",
    "assert len(test_sources) == 10\n",
    "assert len(test_hypotheses) == 10\n",
    "assert len(test_references) == 10"
   ]
  },
  {
   "cell_type": "code",
   "execution_count": null,
   "metadata": {},
   "outputs": [],
   "source": [
    "#| hide\n",
    "import nbdev; nbdev.nbdev_export()"
   ]
  }
 ],
 "metadata": {
  "kernelspec": {
   "display_name": "Python 3 (ipykernel)",
   "language": "python",
   "name": "python3"
  }
 },
 "nbformat": 4,
 "nbformat_minor": 1
}
