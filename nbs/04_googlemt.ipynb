{
 "cells": [
  {
   "cell_type": "markdown",
   "metadata": {},
   "source": [
    "# googlemt\n",
    "> Library to use Google's machine translation services"
   ]
  },
  {
   "cell_type": "code",
   "execution_count": null,
   "metadata": {},
   "outputs": [],
   "source": [
    "#| default_exp googlemt"
   ]
  },
  {
   "cell_type": "code",
   "execution_count": null,
   "metadata": {},
   "outputs": [],
   "source": [
    "#| hide\n",
    "import os"
   ]
  },
  {
   "cell_type": "code",
   "execution_count": null,
   "metadata": {},
   "outputs": [],
   "source": [
    "#| hide\n",
    "running_in_colab = 'google.colab' in str(get_ipython())\n",
    "if running_in_colab:\n",
    "    from google.colab import drive\n",
    "    drive.mount('/content/drive')\n",
    "    homedir = \"/content/drive/MyDrive\"\n",
    "else:\n",
    "    homedir = os.getenv('HOME')"
   ]
  },
  {
   "cell_type": "code",
   "execution_count": null,
   "metadata": {},
   "outputs": [],
   "source": [
    "#| hide\n",
    "if running_in_colab:\n",
    "    github_test_folder = homedir+\"/github/polyglottech/mteval\"\n",
    "    %cd {github_test_folder}\n",
    "    !pip3 install nbdev\n",
    "    !pip3 install -e '.[dev]'"
   ]
  },
  {
   "cell_type": "code",
   "execution_count": null,
   "metadata": {},
   "outputs": [],
   "source": [
    "#| hide\n",
    "from dotenv import load_dotenv"
   ]
  },
  {
   "cell_type": "code",
   "execution_count": null,
   "metadata": {},
   "outputs": [],
   "source": [
    "#| hide\n",
    "if running_in_colab:\n",
    "    # Colab doesn't have a mechanism to set environment variables other than python-dotenv\n",
    "    env_file = homedir+'/secrets/.env'\n",
    "    %load_ext dotenv\n",
    "    %dotenv {env_file}"
   ]
  },
  {
   "cell_type": "code",
   "execution_count": null,
   "metadata": {},
   "outputs": [],
   "source": [
    "#| hide\n",
    "from nbdev.showdoc import *"
   ]
  },
  {
   "cell_type": "code",
   "execution_count": null,
   "metadata": {},
   "outputs": [],
   "source": [
    "#| export\n",
    "import os\n",
    "import six\n",
    "from google.cloud import translate\n",
    "\n",
    "class googletranslate:\n",
    "    \"\"\"Class to get translations from the Google Translate API\"\"\"\n",
    "\n",
    "    def __init__(self):\n",
    "        \"\"\" Constructor of googletranslate class. Load the credentials for the Google API\"\"\"\n",
    "        # Google credentials need to be available in JSON file specified in the GOOGLE_APPLICATION_CREDENTIALS environment variable\n",
    "        project_id = os.getenv('GOOGLE_PROJECT_ID')\n",
    "        location = \"global\"\n",
    "        \n",
    "        self._translate_client = translate.TranslationServiceClient()\n",
    "        self._parent = f\"projects/{project_id}/locations/{location}\"\n",
    "\n",
    "    def translate_text(self,sourcelang, targetlang, text):\n",
    "        \"\"\"Function to translate text into the target language\"\"\"\n",
    "        if isinstance(text, six.binary_type):\n",
    "            text = text.decode(\"utf-8\")\n",
    "\n",
    "        response = self._translate_client.translate_text(\n",
    "            request={\n",
    "                \"parent\": self._parent,\n",
    "                \"contents\": [text],\n",
    "                \"mime_type\": \"text/plain\",  # mime types: text/plain, text/html\n",
    "                \"source_language_code\": sourcelang,\n",
    "                \"target_language_code\": targetlang,\n",
    "            }\n",
    "        )\n",
    "\n",
    "        return response.translations[0].translated_text"
   ]
  },
  {
   "cell_type": "code",
   "execution_count": null,
   "metadata": {},
   "outputs": [],
   "source": [
    "#| hide\n",
    "# Current nbdev testing stomps on temporary Google credentials before testing can be run\n",
    "# Therefore it isn't possible right now to test this in Github Actions\n",
    "if not os.getenv('GITHUB_ACTIONS') == \"true\":\n",
    "    gt = googletranslate()\n",
    "    translation = gt.translate_text(\"en\",\"it\",\"This is a cool car!\")\n",
    "    assert translation == \"Questa è una bella macchina!\""
   ]
  },
  {
   "cell_type": "code",
   "execution_count": null,
   "metadata": {},
   "outputs": [],
   "source": [
    "show_doc(googletranslate.translate_text)"
   ]
  },
  {
   "cell_type": "code",
   "execution_count": null,
   "metadata": {},
   "outputs": [],
   "source": [
    "#| hide\n",
    "import nbdev; nbdev.nbdev_export()"
   ]
  }
 ],
 "metadata": {
  "kernelspec": {
   "display_name": "Python 3 (ipykernel)",
   "language": "python",
   "name": "python3"
  }
 },
 "nbformat": 4,
 "nbformat_minor": 1
}
